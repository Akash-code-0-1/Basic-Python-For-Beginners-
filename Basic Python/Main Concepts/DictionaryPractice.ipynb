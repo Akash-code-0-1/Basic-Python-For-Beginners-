{
 "cells": [
  {
   "cell_type": "code",
   "execution_count": 3,
   "metadata": {},
   "outputs": [
    {
     "name": "stdout",
     "output_type": "stream",
     "text": [
      "dict_keys(['Name', 'Address', 'Phone', 'E-mail'])\n",
      "dict_values(['Student-1', 'Dhaka', '0124545984', '234cse@gmail.com'])\n",
      "dict_items([('Name', 'Student-1'), ('Address', 'Dhaka'), ('Phone', '0124545984'), ('E-mail', '234cse@gmail.com')])\n"
     ]
    }
   ],
   "source": [
    "Student_info={\"Name\":\"Student-1\",\n",
    "             \"Address\":\"Dhaka\",\n",
    "             \"Phone\":\"0124545984\",\n",
    "             \"E-mail\":\"234cse@gmail.com\"\n",
    "             }\n",
    "\n",
    "#printing dic\n",
    "print(Student_info.keys())\n",
    "print(Student_info.values())\n",
    "print(Student_info.items())\n",
    "\n"
   ]
  },
  {
   "cell_type": "code",
   "execution_count": 13,
   "metadata": {},
   "outputs": [
    {
     "name": "stdout",
     "output_type": "stream",
     "text": [
      "76.0\n",
      "76.0\n"
     ]
    }
   ],
   "source": [
    "Student_Result={\n",
    "    \"math\": 75,\n",
    "    \"phy\": 82,\n",
    "    \"English\": 71\n",
    "}\n",
    "\n",
    "#average_marks={}\n",
    "total_marks=sum(Student_Result.values())\n",
    "average_marks=total_marks/(len(Student_Result))\n",
    "    \n",
    "print(average_marks)\n",
    "\n",
    "sum=0\n",
    "for values in Student_Result.values():\n",
    "    sum=sum+values\n",
    "\n",
    "average_marks=sum/len(Student_Result)\n",
    "\n",
    "print(average_marks)\n",
    "    "
   ]
  },
  {
   "cell_type": "code",
   "execution_count": 27,
   "metadata": {},
   "outputs": [
    {
     "ename": "TypeError",
     "evalue": "'int' object is not callable",
     "output_type": "error",
     "traceback": [
      "\u001b[1;31m---------------------------------------------------------------------------\u001b[0m",
      "\u001b[1;31mTypeError\u001b[0m                                 Traceback (most recent call last)",
      "Cell \u001b[1;32mIn[27], line 9\u001b[0m\n\u001b[0;32m      7\u001b[0m average_marks \u001b[38;5;241m=\u001b[39m []\n\u001b[0;32m      8\u001b[0m \u001b[38;5;28;01mfor\u001b[39;00m student \u001b[38;5;129;01min\u001b[39;00m student_marks:\n\u001b[1;32m----> 9\u001b[0m     total_marks \u001b[38;5;241m=\u001b[39m (\u001b[38;5;28;43msum\u001b[39;49m\u001b[43m(\u001b[49m\u001b[43mstudent_marks\u001b[49m\u001b[43m[\u001b[49m\u001b[43mstudent\u001b[49m\u001b[43m]\u001b[49m\u001b[38;5;241;43m.\u001b[39;49m\u001b[43mvalues\u001b[49m\u001b[43m(\u001b[49m\u001b[43m)\u001b[49m\u001b[43m)\u001b[49m)\n\u001b[0;32m     10\u001b[0m     average_mark_perstudent\u001b[38;5;241m=\u001b[39m total_marks \u001b[38;5;241m/\u001b[39m \u001b[38;5;28mlen\u001b[39m(student_marks[student])\n\u001b[0;32m     12\u001b[0m     average_marks\u001b[38;5;241m.\u001b[39mappend(average_mark_perstudent)\n",
      "\u001b[1;31mTypeError\u001b[0m: 'int' object is not callable"
     ]
    }
   ],
   "source": [
    "student_marks = {\n",
    "    \"student1\": {\"Math\": 75, \"Physics\": 70, \"English\": 76},\n",
    "    \"student2\": {\"Math\": 81, \"Physics\": 85, \"English\": 72},\n",
    "    \"student3\": {\"Math\": 75, \"Physics\": 81, \"English\": 85}\n",
    "}\n",
    "\n",
    "average_marks = []\n",
    "for student in student_marks:\n",
    "    total_marks = (sum(student_marks[student].values()))\n",
    "    average_mark_perstudent= total_marks / len(student_marks[student])\n",
    "    \n",
    "    average_marks.append(average_mark_perstudent)\n",
    "    \n",
    "\n",
    "print(average_marks)\n"
   ]
  },
  {
   "cell_type": "code",
   "execution_count": null,
   "metadata": {},
   "outputs": [],
   "source": [
    "# Selecting three columns for Bayesian inference\n",
    "selected_columns = ['Sleep Duration', 'Quality of Sleep','Physical Activity Level']"
   ]
  },
  {
   "cell_type": "code",
   "execution_count": null,
   "metadata": {},
   "outputs": [],
   "source": [
    "for col in selected_columns:\n",
    "    # Define prior parameters (mean and standard deviation)\n",
    "    prior_mean = data[col].mean()\n",
    "    prior_std = data[col].std()\n",
    "\n",
    "    # Define likelihood parameters (you can customize this based on your data)\n",
    "    likelihood_mean = data[col].mean()\n",
    "    likelihood_std = data[col].std()\n",
    "\n",
    "    # Calculate posterior parameters using Bayes' Theorem\n",
    "    posterior_mean = (prior_mean / prior_std**2 + likelihood_mean / likelihood_std**2) / (1 / prior_std**2 + 1 / likelihood_std**2)\n",
    "    posterior_std = np.sqrt(1 / (1 / prior_std**2 + 1 / likelihood_std**2))\n",
    "\n",
    "    print(f\"Posterior mean for {col}: {posterior_mean}\")\n",
    "    print(f\"Posterior standard deviation for {col}: {posterior_std}\")"
   ]
  }
 ],
 "metadata": {
  "kernelspec": {
   "display_name": "Python 3",
   "language": "python",
   "name": "python3"
  },
  "language_info": {
   "codemirror_mode": {
    "name": "ipython",
    "version": 3
   },
   "file_extension": ".py",
   "mimetype": "text/x-python",
   "name": "python",
   "nbconvert_exporter": "python",
   "pygments_lexer": "ipython3",
   "version": "3.11.4"
  }
 },
 "nbformat": 4,
 "nbformat_minor": 2
}
