{
 "cells": [
  {
   "cell_type": "code",
   "execution_count": 3,
   "metadata": {},
   "outputs": [
    {
     "name": "stdout",
     "output_type": "stream",
     "text": [
      "dict_keys(['Name', 'Address', 'Phone', 'E-mail'])\n",
      "dict_values(['Student-1', 'Dhaka', '0124545984', '234cse@gmail.com'])\n",
      "dict_items([('Name', 'Student-1'), ('Address', 'Dhaka'), ('Phone', '0124545984'), ('E-mail', '234cse@gmail.com')])\n"
     ]
    }
   ],
   "source": [
    "Student_info={\"Name\":\"Student-1\",\n",
    "             \"Address\":\"Dhaka\",\n",
    "             \"Phone\":\"0124545984\",\n",
    "             \"E-mail\":\"234cse@gmail.com\"\n",
    "             }\n",
    "\n",
    "#printing dic\n",
    "print(Student_info.keys())\n",
    "print(Student_info.values())\n",
    "print(Student_info.items())\n",
    "\n"
   ]
  },
  {
   "cell_type": "code",
   "execution_count": null,
   "metadata": {},
   "outputs": [],
   "source": [
    "student_marks = {\n",
    "    \"student1\": {\"math\": 60, \"eng\": 70, \"phy\": 85},\n",
    "    \"student2\": {\"math\": 65, \"eng\": 73, \"phy\": 60},\n",
    "    \"student3\": {\"math\": 55, \"eng\": 75, \"phy\": 78}\n",
    "}\n",
    "\n",
    "average_marks = {}\n",
    "for student, marks in student_marks.items():\n",
    "    total_marks = sum(marks.values())\n",
    "    average_marks[student] = total_marks / len(marks)\n",
    "\n",
    "for student, avg_mark in average_marks.items():\n",
    "    print(f\"Average mark of {student}: {avg_mark}\")"
   ]
  },
  {
   "cell_type": "code",
   "execution_count": 9,
   "metadata": {},
   "outputs": [
    {
     "name": "stdout",
     "output_type": "stream",
     "text": [
      "57.0\n"
     ]
    }
   ],
   "source": [
    "Student_Result={\n",
    "    \"math\": 75,\n",
    "    \"phy\": 82,\n",
    "    \"English\": 71\n",
    "}\n",
    "\n",
    "average_marks={}\n",
    "total_marks=sum(Student_Result.values())\n",
    "average_marks=total_marks/(len(Student_Result)+1)\n",
    "    \n",
    "print(average_marks)\n",
    "    "
   ]
  },
  {
   "cell_type": "code",
   "execution_count": null,
   "metadata": {},
   "outputs": [],
   "source": []
  }
 ],
 "metadata": {
  "kernelspec": {
   "display_name": "Python 3",
   "language": "python",
   "name": "python3"
  },
  "language_info": {
   "codemirror_mode": {
    "name": "ipython",
    "version": 3
   },
   "file_extension": ".py",
   "mimetype": "text/x-python",
   "name": "python",
   "nbconvert_exporter": "python",
   "pygments_lexer": "ipython3",
   "version": "3.11.4"
  }
 },
 "nbformat": 4,
 "nbformat_minor": 2
}
