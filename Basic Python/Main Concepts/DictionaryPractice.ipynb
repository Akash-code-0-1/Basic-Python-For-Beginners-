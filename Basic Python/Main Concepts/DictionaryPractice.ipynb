{
 "cells": [
  {
   "cell_type": "code",
   "execution_count": 3,
   "metadata": {},
   "outputs": [
    {
     "name": "stdout",
     "output_type": "stream",
     "text": [
      "dict_keys(['Name', 'Address', 'Phone', 'E-mail'])\n",
      "dict_values(['Student-1', 'Dhaka', '0124545984', '234cse@gmail.com'])\n",
      "dict_items([('Name', 'Student-1'), ('Address', 'Dhaka'), ('Phone', '0124545984'), ('E-mail', '234cse@gmail.com')])\n"
     ]
    }
   ],
   "source": [
    "Student_info={\"Name\":\"Student-1\",\n",
    "             \"Address\":\"Dhaka\",\n",
    "             \"Phone\":\"0124545984\",\n",
    "             \"E-mail\":\"234cse@gmail.com\"\n",
    "             }\n",
    "\n",
    "#printing dic\n",
    "print(Student_info.keys())\n",
    "print(Student_info.values())\n",
    "print(Student_info.items())\n",
    "\n"
   ]
  },
  {
   "cell_type": "code",
   "execution_count": 13,
   "metadata": {},
   "outputs": [
    {
     "name": "stdout",
     "output_type": "stream",
     "text": [
      "76.0\n",
      "76.0\n"
     ]
    }
   ],
   "source": [
    "Student_Result={\n",
    "    \"math\": 75,\n",
    "    \"phy\": 82,\n",
    "    \"English\": 71\n",
    "}\n",
    "\n",
    "#average_marks={}\n",
    "total_marks=sum(Student_Result.values())\n",
    "average_marks=total_marks/(len(Student_Result))\n",
    "    \n",
    "print(average_marks)\n",
    "\n",
    "sum=0\n",
    "for values in Student_Result.values():\n",
    "    sum=sum+values\n",
    "\n",
    "average_marks=sum/len(Student_Result)\n",
    "\n",
    "print(average_marks)\n",
    "    "
   ]
  },
  {
   "cell_type": "code",
   "execution_count": 1,
   "metadata": {},
   "outputs": [
    {
     "name": "stdout",
     "output_type": "stream",
     "text": [
      "Average-Marks: [78, 79, 80]\n"
     ]
    }
   ],
   "source": [
    "Student_Result = {\n",
    "    \"student1\": {\"Math\": 75, \"Physics\": 83, \"English\": 76},\n",
    "    \"student2\": {\"Math\": 81, \"Physics\": 85, \"English\": 72},\n",
    "    \"student3\": {\"Math\": 75, \"Physics\": 81, \"English\": 85}\n",
    "}\n",
    "\n",
    "average_marks = []\n",
    "for student in Student_Result:\n",
    "    total_marks = (sum(Student_Result[student].values()))\n",
    "    average_mark_perstudent= total_marks / len(Student_Result[student])\n",
    "    \n",
    "    \n",
    "    average_marks.append(int(average_mark_perstudent))\n",
    "    \n",
    "\n",
    "print(\"Average-Marks:\", average_marks)\n"
   ]
  }
 ],
 "metadata": {
  "kernelspec": {
   "display_name": "Python 3",
   "language": "python",
   "name": "python3"
  },
  "language_info": {
   "codemirror_mode": {
    "name": "ipython",
    "version": 3
   },
   "file_extension": ".py",
   "mimetype": "text/x-python",
   "name": "python",
   "nbconvert_exporter": "python",
   "pygments_lexer": "ipython3",
   "version": "3.11.4"
  }
 },
 "nbformat": 4,
 "nbformat_minor": 2
}
