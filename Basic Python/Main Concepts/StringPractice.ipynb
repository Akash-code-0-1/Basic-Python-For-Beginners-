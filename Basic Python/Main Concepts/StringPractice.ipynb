{
 "cells": [
  {
   "cell_type": "code",
   "execution_count": 1,
   "metadata": {},
   "outputs": [
    {
     "name": "stdout",
     "output_type": "stream",
     "text": [
      "7\n"
     ]
    }
   ],
   "source": [
    "#it returns Where in the text is the word \"welcome\"?\n",
    "txt = \"Hello, welcome to my world.\"\n",
    "\n",
    "x = txt.index(\"welcome\")\n",
    "\n",
    "print(x)"
   ]
  },
  {
   "cell_type": "code",
   "execution_count": 1,
   "metadata": {},
   "outputs": [
    {
     "name": "stdout",
     "output_type": "stream",
     "text": [
      "Hello\n",
      "Welcome to Python Programming\n",
      "Hello! my name is Akash.\n",
      "I am 23\n"
     ]
    }
   ],
   "source": [
    "#string declaration\n",
    "String1=\"Hello\"\n",
    "String2=\"Welcome to Python Programming\"\n",
    "String3=\"\"\"Hello! my name is Akash.\n",
    "I am 23\"\"\"\n",
    "\n",
    "print(String1)\n",
    "print(String2)\n",
    "print(String3)"
   ]
  },
  {
   "cell_type": "code",
   "execution_count": 3,
   "metadata": {},
   "outputs": [
    {
     "name": "stdout",
     "output_type": "stream",
     "text": [
      "o\n",
      "H\n",
      "e\n",
      "l\n",
      "l\n",
      "o\n"
     ]
    }
   ],
   "source": [
    "#Accesing String Elements\n",
    "\n",
    "#Accessing through in single line \n",
    "String1='Hello'\n",
    "print(String1[4])\n",
    "\n",
    "#iterating Through loop\n",
    "for i in String1:\n",
    "    print(i)"
   ]
  },
  {
   "cell_type": "code",
   "execution_count": 16,
   "metadata": {},
   "outputs": [
    {
     "name": "stdout",
     "output_type": "stream",
     "text": [
      "Hello Welcome to Python Programming\n",
      "False\n",
      "['', 'elcome to Python Programming']\n",
      "Slicing String:\n",
      "Hello! my name is Akash.\n",
      "I am 23\n",
      "ello! my name is Akash.\n",
      "I am 23\n",
      "lo ynm sA\n",
      "We are the so-called \"Vikings\" from the north.\n"
     ]
    }
   ],
   "source": [
    "#String Operation\n",
    "\"\"\"String concaeration:(+)\n",
    "\"\"\"\n",
    "String1=\"Hello\"\n",
    "String2=\"Welcome to Python Programming\"\n",
    "String3=\"\"\"Hello! my name is Akash.\n",
    "I am 23\"\"\"\n",
    "\n",
    "print(String1+\" \"+String2)\n",
    "\n",
    "\n",
    "\"\"\"String comparison:==\n",
    "\"\"\"\n",
    "print(String1==String2)\n",
    "\n",
    "\"\"\"String Spliting:split()\n",
    "\"\"\"\n",
    "SplitedString=String2.split(\"W\")\n",
    "print(SplitedString)\n",
    "\n",
    "\"\"\"String Slicing:[:]\n",
    "\n",
    "[start index: stop index]\n",
    "[start: end: step]\n",
    "[:] ->it will run through all of the string\n",
    "\n",
    "\"\"\"\n",
    "print(\"Slicing String:\")\n",
    "print(String3[:])\n",
    "print(String3[1:len(String3)])\n",
    "print(String3[2:20:2])\n",
    "\n",
    "\n",
    "\n",
    "\n"
   ]
  },
  {
   "cell_type": "code",
   "execution_count": 1,
   "metadata": {},
   "outputs": [
    {
     "name": "stdout",
     "output_type": "stream",
     "text": [
      "AKASH\n",
      "akash\n",
      "aka\n",
      "banana\n",
      "hsakA\n",
      "I like apples\n",
      "['welcome', 'to', 'the', 'jungle']\n",
      "True\n",
      "True\n",
      "3\n",
      "3\n",
      "We are the so-called \"Vikings\" from the north.\n"
     ]
    }
   ],
   "source": [
    "\"\"\"build in Functions in Python:\n",
    "1) upper()\n",
    "2) lower()\n",
    "3) strip()\n",
    "4) replace()\n",
    "5) split()\n",
    "6) startwith()\n",
    "7) index()\n",
    "    \"\"\"\n",
    "    \n",
    "name=\"Akash\"\n",
    "print(name.upper())\n",
    "print(name.lower())\n",
    "\n",
    "String2=\"   aka  \"\n",
    "print(String2.strip())\n",
    "txt = \",,,,,rrttgg.....banana....rrr\"\n",
    "x = txt.strip(\",.grt\")\n",
    "print(x)\n",
    "\n",
    "\n",
    "#String Reverse:\n",
    "finalString=name[::-1]\n",
    "print(finalString)\n",
    "\n",
    "\n",
    "txt = \"I like bananas\"\n",
    "x = txt.replace(\"bananas\", \"apples\")\n",
    "print(x)\n",
    "\n",
    "\n",
    "# string.split(separator, maxsplit)\n",
    "txt = \"welcome to the jungle\"\n",
    "x = txt.split() #it split a string to a list\n",
    "print(x)\n",
    "\n",
    "#string.startswith(value, start, end)\n",
    "txt = \"Hello, welcome to my world.\"\n",
    "x = txt.startswith(\"Hello\")\n",
    "print(x)\n",
    "\n",
    "txt = \"Hello, welcome to my world.\"\n",
    "x = txt.startswith(\"wel\", 7, 20)\n",
    "print(x)\n",
    "\n",
    "#list.index(elmnt)\n",
    "fruits = ['apple', 'banana', 'cherry']\n",
    "x = fruits.index(\"cherry\")\n",
    "print(x+1)\n",
    "\n",
    "numbers=[23,45,25,55,67]\n",
    "y=numbers.index(25)\n",
    "print(y+1)\n",
    "\n",
    "\n",
    "#escape characters\n",
    "txt = \"We are the so-called \\\"Vikings\\\" from the north.\"\n",
    "print(txt)\n"
   ]
  },
  {
   "cell_type": "code",
   "execution_count": null,
   "metadata": {},
   "outputs": [],
   "source": []
  }
 ],
 "metadata": {
  "kernelspec": {
   "display_name": "Python 3",
   "language": "python",
   "name": "python3"
  },
  "language_info": {
   "codemirror_mode": {
    "name": "ipython",
    "version": 3
   },
   "file_extension": ".py",
   "mimetype": "text/x-python",
   "name": "python",
   "nbconvert_exporter": "python",
   "pygments_lexer": "ipython3",
   "version": "3.11.4"
  }
 },
 "nbformat": 4,
 "nbformat_minor": 2
}
