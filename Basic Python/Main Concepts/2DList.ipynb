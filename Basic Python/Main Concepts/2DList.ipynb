{
 "cells": [
  {
   "cell_type": "code",
   "execution_count": 1,
   "metadata": {},
   "outputs": [
    {
     "name": "stdout",
     "output_type": "stream",
     "text": [
      "5\n"
     ]
    }
   ],
   "source": [
    "#2Dlist numbers=[[1,3,4,5,6],[24,56,4,6,7]]\n",
    "#printing like print(numbers[0][3])\n",
    "numbers=[[1,3,4,5,6],[24,56,4,6,7]]\n",
    "print(numbers[0][3])\n",
    "\n"
   ]
  },
  {
   "cell_type": "code",
   "execution_count": 12,
   "metadata": {},
   "outputs": [
    {
     "name": "stdout",
     "output_type": "stream",
     "text": [
      "Printing 2D list: \n",
      "1 3 4 7 \n",
      "2 8 5 6 \n",
      "Printing even Number List:  [4, 2, 8, 6]\n",
      "Printing odd Number List:  [1, 3, 7, 5]\n",
      "Sum=  36\n"
     ]
    }
   ],
   "source": [
    "#accessing all element by loop\n",
    "numbers=[[1,3,4,7],[2,8,5,6]]\n",
    "evenLinst=[]\n",
    "oddList=[]\n",
    "sum=0\n",
    "print(\"Printing 2D list: \")\n",
    "for i in numbers:\n",
    "    for element in i:\n",
    "        print(element, end=' ')\n",
    "        sum+=element\n",
    "        if element%2==0:\n",
    "            evenLinst.append(element)\n",
    "        else:\n",
    "             oddList.append(element)       \n",
    "    print()\n",
    "print(\"Printing even Number List: \",evenLinst)\n",
    "print(\"Printing odd Number List: \",oddList)\n",
    "print(\"Sum= \",sum)"
   ]
  },
  {
   "cell_type": "code",
   "execution_count": 16,
   "metadata": {},
   "outputs": [
    {
     "name": "stdout",
     "output_type": "stream",
     "text": [
      "Res=  40320\n"
     ]
    }
   ],
   "source": [
    "numbers=[[1,3,4,7],[2,8,5,6]]\n",
    "sum=1\n",
    "for i in range(len(numbers)):\n",
    "    for j in range(len(numbers[i])):\n",
    "        sum*=numbers[i][j]\n",
    "print(\"Result= \", sum)"
   ]
  },
  {
   "cell_type": "code",
   "execution_count": 20,
   "metadata": {},
   "outputs": [
    {
     "name": "stdout",
     "output_type": "stream",
     "text": [
      "1 X 2 = 2\n",
      "3 X 8 = 24\n",
      "4 X 5 = 20\n",
      "7 X 6 = 42\n"
     ]
    }
   ],
   "source": [
    "numbers=[[1,3,4,7],[2,8,5,6]]\n",
    "sum=1\n",
    "for i in range(len(numbers)-1):\n",
    "    for j in range(len(numbers[i+1])):\n",
    "        print(numbers[i][j],\"X\", numbers[i+1][j],\"=\",numbers[i][j]*numbers[i+1][j])"
   ]
  },
  {
   "cell_type": "code",
   "execution_count": 21,
   "metadata": {},
   "outputs": [
    {
     "name": "stdout",
     "output_type": "stream",
     "text": [
      "1 X 2 = 2\n",
      "3 X 8 = 24\n",
      "4 X 5 = 20\n",
      "7 X 6 = 42\n",
      "\n",
      "Sum of products: 88\n"
     ]
    }
   ],
   "source": [
    "numbers = [[1, 3, 4, 7], [2, 8, 5, 6]]\n",
    "sum_of_products = 0\n",
    "\n",
    "for i in range(len(numbers) - 1):  \n",
    "    for j in range(len(numbers[i+1])):\n",
    "        sum_of_products += numbers[i][j] * numbers[i+1][j]\n",
    "        print(f\"{numbers[i][j]} X {numbers[i+1][j]} = {numbers[i][j] * numbers[i+1][j]}\")\n",
    "\n",
    "print(\"\\nSum of products:\", sum_of_products)"
   ]
  },
  {
   "cell_type": "code",
   "execution_count": 37,
   "metadata": {},
   "outputs": [
    {
     "name": "stdout",
     "output_type": "stream",
     "text": [
      "Enter values for 2DList 3 x 4 matrix:\n",
      "\n",
      "2D List:\n",
      "[1, 2, 3, 4]\n",
      "[5, 6, 7, 8]\n",
      "[9, 2, 3, 4]\n",
      "\n",
      "Even List: \n",
      "2 4 6 8 2 4 \n",
      "Even Number Sum:  26\n",
      "Odd List: \n",
      "1 3 5 7 9 3 \n",
      "Odd Number Division:  2835\n"
     ]
    }
   ],
   "source": [
    "row = 3\n",
    "column = 4\n",
    "py2Dlist = []\n",
    "\n",
    "print(\"Enter values for 2DList\", row, \"x\", column, \"matrix:\")\n",
    "evenList = []\n",
    "oddList = []\n",
    "evenSum = 0\n",
    "oddMulti = 1\n",
    "\n",
    "for i in range(row):\n",
    "    inner_list = []\n",
    "    for j in range(column):\n",
    "        value = int(input(f\"Enter value at position ({i+1},{j+1}): \"))\n",
    "        inner_list.append(value)\n",
    "        \n",
    "        if value % 2 == 0:\n",
    "            evenList += [value]\n",
    "            evenSum += value\n",
    "        else:\n",
    "            oddList += [value]\n",
    "            oddMulti *= value\n",
    "    py2Dlist.append(inner_list)\n",
    "\n",
    "\n",
    "print(\"\\n2D List:\")\n",
    "for element in py2Dlist:\n",
    "    print(element)\n",
    "    \n",
    "print()\n",
    "\n",
    "print(\"Even List: \")\n",
    "for element in evenList:\n",
    "    print(element, end=' ')\n",
    "    \n",
    "print()\n",
    "\n",
    "print(\"Even Number Sum: \",evenSum)\n",
    "\n",
    "print(\"Odd List: \")\n",
    "for element in oddList:\n",
    "    print(element, end=' ')\n",
    "    \n",
    "print()\n",
    "\n",
    "print(\"Odd Number Division: \",oddMulti)\n",
    "    \n",
    "\n",
    "\n",
    "\n",
    "\n"
   ]
  },
  {
   "cell_type": "code",
   "execution_count": null,
   "metadata": {},
   "outputs": [],
   "source": []
  }
 ],
 "metadata": {
  "kernelspec": {
   "display_name": "Python 3",
   "language": "python",
   "name": "python3"
  },
  "language_info": {
   "codemirror_mode": {
    "name": "ipython",
    "version": 3
   },
   "file_extension": ".py",
   "mimetype": "text/x-python",
   "name": "python",
   "nbconvert_exporter": "python",
   "pygments_lexer": "ipython3",
   "version": "3.11.4"
  }
 },
 "nbformat": 4,
 "nbformat_minor": 2
}
