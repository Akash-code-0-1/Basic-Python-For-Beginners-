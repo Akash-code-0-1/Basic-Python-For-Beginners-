{
 "cells": [
  {
   "cell_type": "code",
   "execution_count": 1,
   "metadata": {},
   "outputs": [
    {
     "name": "stdout",
     "output_type": "stream",
     "text": [
      "{'B', 'A', 'C'}\n"
     ]
    }
   ],
   "source": [
    "#set declaration\n",
    "myset={\"A\",\"B\",\"C\"}\n",
    "print(myset)"
   ]
  },
  {
   "cell_type": "code",
   "execution_count": 15,
   "metadata": {},
   "outputs": [
    {
     "name": "stdout",
     "output_type": "stream",
     "text": [
      "User set: {'3', '4', '7', '5', '6', 'Akash'}\n"
     ]
    }
   ],
   "source": [
    "#user input\n",
    "user_input = input(\"Enter elements: \")\n",
    "\n",
    "user_set = set(user_input.split())\n",
    "\n",
    "print(\"User set:\", user_set)"
   ]
  },
  {
   "cell_type": "code",
   "execution_count": null,
   "metadata": {},
   "outputs": [],
   "source": []
  },
  {
   "cell_type": "code",
   "execution_count": null,
   "metadata": {},
   "outputs": [],
   "source": []
  },
  {
   "cell_type": "code",
   "execution_count": 16,
   "metadata": {},
   "outputs": [
    {
     "name": "stdout",
     "output_type": "stream",
     "text": [
      "{True, 34, 'male', 40, 'abc'}\n"
     ]
    }
   ],
   "source": [
    "#Set items are unordered, unchangeable, and do not allow duplicate values.\n",
    "#set can be combined any data type\n",
    "set1 = {\"abc\", 34, True, 40, \"male\"}\n",
    "print(set1)\n"
   ]
  },
  {
   "cell_type": "code",
   "execution_count": 17,
   "metadata": {},
   "outputs": [
    {
     "name": "stdout",
     "output_type": "stream",
     "text": [
      "banana\n",
      "cherry\n",
      "apple\n"
     ]
    }
   ],
   "source": [
    "#access set items through loop\n",
    "thisset = {\"apple\", \"banana\", \"cherry\"}\n",
    "\n",
    "for x in thisset:\n",
    "   print(x)"
   ]
  },
  {
   "cell_type": "code",
   "execution_count": 18,
   "metadata": {},
   "outputs": [
    {
     "name": "stdout",
     "output_type": "stream",
     "text": [
      "{'orange', 'banana', 'cherry', 'apple'}\n"
     ]
    }
   ],
   "source": [
    "#add set elements/ add item to the set\n",
    "thisset = {\"apple\", \"banana\", \"cherry\"}\n",
    "\n",
    "thisset.add(\"orange\")\n",
    "\n",
    "print(thisset)"
   ]
  },
  {
   "cell_type": "code",
   "execution_count": 19,
   "metadata": {},
   "outputs": [
    {
     "name": "stdout",
     "output_type": "stream",
     "text": [
      "{'pineapple', 'banana', 'cherry', 'apple', 'papaya', 'mango'}\n"
     ]
    }
   ],
   "source": [
    "#to add to set\n",
    "#it van be added with  any iterable object like(tuple, list, dictionary)\n",
    "thisset = {\"apple\", \"banana\", \"cherry\"}\n",
    "tropical = {\"pineapple\", \"mango\", \"papaya\"}\n",
    "\n",
    "thisset.update(tropical)\n",
    "\n",
    "print(thisset)"
   ]
  },
  {
   "cell_type": "code",
   "execution_count": 20,
   "metadata": {},
   "outputs": [
    {
     "name": "stdout",
     "output_type": "stream",
     "text": [
      "{'cherry', 'apple'}\n"
     ]
    }
   ],
   "source": [
    "#you can remove set items by using remove() method or function\n",
    "# it can be done also with discard(), pop()\n",
    "thisset = {\"apple\", \"banana\", \"cherry\"}\n",
    "\n",
    "thisset.remove(\"banana\")\n",
    "\n",
    "print(thisset)"
   ]
  },
  {
   "cell_type": "code",
   "execution_count": 21,
   "metadata": {},
   "outputs": [
    {
     "name": "stdout",
     "output_type": "stream",
     "text": [
      "{1, 2, 'b', 3, 'c', 'a'}\n",
      "{1, 2, 'b', 3, 'c', 'a'}\n"
     ]
    }
   ],
   "source": [
    "# joining two sets using union()\n",
    "# it wor like add / here update() also do the same\n",
    "set1 = {\"a\", \"b\" , \"c\"}\n",
    "set2 = {1, 2, 3}\n",
    "\n",
    "set3 = set1.union(set2)\n",
    "print(set3)\n",
    "\n",
    "set1 = {\"a\", \"b\" , \"c\"}\n",
    "set2 = {1, 2, 3}\n",
    "\n",
    "set1.update(set2)\n",
    "print(set1)\n"
   ]
  },
  {
   "cell_type": "code",
   "execution_count": 22,
   "metadata": {},
   "outputs": [
    {
     "name": "stdout",
     "output_type": "stream",
     "text": [
      "{'apple'}\n"
     ]
    }
   ],
   "source": [
    "#if you want to keep only duplicates element between two sets\n",
    "# intersection_update() and intersection()  method can do this\n",
    "x = {\"apple\", \"banana\", \"cherry\"}\n",
    "y = {\"google\", \"microsoft\", \"apple\"}\n",
    "\n",
    "x.intersection_update(y)\n",
    "\n",
    "print(x)"
   ]
  },
  {
   "cell_type": "code",
   "execution_count": 23,
   "metadata": {},
   "outputs": [
    {
     "name": "stdout",
     "output_type": "stream",
     "text": [
      "{'banana', 'cherry', 'microsoft', 'google'}\n"
     ]
    }
   ],
   "source": [
    "#symmetric_difference_update() and symmetric_difference() method can delete the duplicates element from two sets\n",
    "x = {\"apple\", \"banana\", \"cherry\"}\n",
    "y = {\"google\", \"microsoft\", \"apple\"}\n",
    "\n",
    "x.symmetric_difference_update(y)\n",
    "\n",
    "print(x)"
   ]
  },
  {
   "cell_type": "code",
   "execution_count": 24,
   "metadata": {},
   "outputs": [
    {
     "name": "stdout",
     "output_type": "stream",
     "text": [
      "{2, 'banana', 'cherry', 'google'}\n"
     ]
    }
   ],
   "source": [
    "#Note: The values True and 1 are considered the same value in sets, and are treated as duplicates:\n",
    "x = {\"apple\", \"banana\", \"cherry\", True}\n",
    "y = {\"google\", 1, \"apple\", 2}\n",
    "\n",
    "z = x.symmetric_difference(y)\n",
    "\n",
    "print(z)"
   ]
  },
  {
   "cell_type": "code",
   "execution_count": 25,
   "metadata": {},
   "outputs": [
    {
     "data": {
      "text/plain": [
       "'\\nPython has a set of built-in methods that you can use on sets.\\n\\nMethod\\tDescription\\n\\n\\nadd()\\tAdds an element to the set\\nclear()\\tRemoves all the elements from the set\\ncopy()\\tReturns a copy of the set\\ndifference()\\tReturns a set containing the difference between two or more sets\\ndifference_update()\\tRemoves the items in this set that are also included in another, specified set\\ndiscard()\\tRemove the specified item\\nintersection()\\tReturns a set, that is the intersection of two other sets\\nintersection_update()\\tRemoves the items in this set that are not present in other, specified set(s)\\nisdisjoint()\\tReturns whether two sets have a intersection or not\\nissubset()\\tReturns whether another set contains this set or not\\nissuperset()\\tReturns whether this set contains another set or not\\npop()\\tRemoves an element from the set\\nremove()\\tRemoves the specified element\\nsymmetric_difference()\\tReturns a set with the symmetric differences of two sets\\nsymmetric_difference_update()\\tinserts the symmetric differences from this set and another\\nunion()\\tReturn a set containing the union of sets\\nupdate()\\tUpdate the set with the union of this set and others\\n'"
      ]
     },
     "execution_count": 25,
     "metadata": {},
     "output_type": "execute_result"
    }
   ],
   "source": [
    "\"\"\"\n",
    "Python has a set of built-in methods that you can use on sets.\n",
    "\n",
    "Method\tDescription\n",
    "\n",
    "\n",
    "add()\tAdds an element to the set\n",
    "clear()\tRemoves all the elements from the set\n",
    "copy()\tReturns a copy of the set\n",
    "difference()\tReturns a set containing the difference between two or more sets\n",
    "difference_update()\tRemoves the items in this set that are also included in another, specified set\n",
    "discard()\tRemove the specified item\n",
    "intersection()\tReturns a set, that is the intersection of two other sets\n",
    "intersection_update()\tRemoves the items in this set that are not present in other, specified set(s)\n",
    "isdisjoint()\tReturns whether two sets have a intersection or not\n",
    "issubset()\tReturns whether another set contains this set or not\n",
    "issuperset()\tReturns whether this set contains another set or not\n",
    "pop()\tRemoves an element from the set\n",
    "remove()\tRemoves the specified element\n",
    "symmetric_difference()\tReturns a set with the symmetric differences of two sets\n",
    "symmetric_difference_update()\tinserts the symmetric differences from this set and another\n",
    "union()\tReturn a set containing the union of sets\n",
    "update()\tUpdate the set with the union of this set and others\n",
    "\"\"\""
   ]
  },
  {
   "cell_type": "code",
   "execution_count": 27,
   "metadata": {},
   "outputs": [
    {
     "name": "stdout",
     "output_type": "stream",
     "text": [
      "{2, 67, 4, 5, 6, 23, 78}\n"
     ]
    }
   ],
   "source": [
    "numbers={2,4,5,6,23,67,78}\n",
    "\n",
    "all(numbers)\n",
    "print(numbers)"
   ]
  },
  {
   "cell_type": "code",
   "execution_count": 41,
   "metadata": {},
   "outputs": [
    {
     "name": "stdout",
     "output_type": "stream",
     "text": [
      "False\n",
      "True\n",
      "7\n",
      "78\n",
      "2\n",
      "[2, 4, 5, 6, 23, 67, 78]\n",
      "185\n",
      "[(0, 2), (1, 67), (2, 4), (3, 5), (4, 6), (5, 23), (6, 78)]\n",
      "Index: 1 ID: 2\n",
      "Index: 2 ID: 67\n",
      "Index: 3 ID: 4\n",
      "Index: 4 ID: 5\n",
      "Index: 5 ID: 6\n",
      "Index: 6 ID: 23\n",
      "Index: 7 ID: 78\n"
     ]
    }
   ],
   "source": [
    "numbers={2,4,5,6,23,67,78}\n",
    "print(all(x%2==0 for x in numbers))\n",
    "print(any(x%2==0 for x in numbers))\n",
    "print(len(numbers))\n",
    "print(max(numbers))\n",
    "print(min(numbers))\n",
    "print(sorted(numbers))\n",
    "print(sum(numbers))\n",
    "\n",
    "print(list(enumerate(numbers)))\n",
    "\n",
    "for i, numbers in enumerate(numbers):\n",
    "    print(\"Index:\", i+1, \"ID:\", numbers)"
   ]
  },
  {
   "cell_type": "code",
   "execution_count": null,
   "metadata": {},
   "outputs": [],
   "source": []
  }
 ],
 "metadata": {
  "kernelspec": {
   "display_name": "Python 3",
   "language": "python",
   "name": "python3"
  },
  "language_info": {
   "codemirror_mode": {
    "name": "ipython",
    "version": 3
   },
   "file_extension": ".py",
   "mimetype": "text/x-python",
   "name": "python",
   "nbconvert_exporter": "python",
   "pygments_lexer": "ipython3",
   "version": "3.11.4"
  }
 },
 "nbformat": 4,
 "nbformat_minor": 2
}
