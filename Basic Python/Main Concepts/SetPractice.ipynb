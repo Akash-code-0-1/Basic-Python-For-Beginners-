{
 "cells": [
  {
   "cell_type": "code",
   "execution_count": 10,
   "metadata": {},
   "outputs": [
    {
     "name": "stdout",
     "output_type": "stream",
     "text": [
      "{'apple', 'banana', 'cherry'}\n",
      "apple\n",
      "banana\n",
      "cherry\n",
      "{'apple', 'orange', 'banana', 'cherry'}\n",
      "{'cherry', 'mango', 'apple', 'banana', 'pineapple', 'papaya'}\n",
      "{'kiwi', 'apple', 'cherry', 'orange', 'banana'}\n"
     ]
    }
   ],
   "source": [
    "\n",
    "    \n",
    "x={\"apple\", \"banana\", \"cherry\"}\n",
    "print(x)\n",
    "\n",
    "#Once a set is created, you cannot change its items, but you can remove items and add new items.\n",
    "\n",
    "\n",
    "thisset = {\"apple\", \"banana\", \"cherry\"}\n",
    "\n",
    "for x in thisset:\n",
    "  print(x)\n",
    "\n",
    "\n",
    "#add() method to add items\n",
    "thisset = {\"apple\", \"banana\", \"cherry\"}\n",
    "\n",
    "thisset.add(\"orange\")\n",
    "\n",
    "print(thisset)\n",
    "\n",
    "\n",
    "#To add items from another set into the current set, use the update() method.\n",
    "thisset = {\"apple\", \"banana\", \"cherry\"}\n",
    "tropical = {\"pineapple\", \"mango\", \"papaya\"}\n",
    "\n",
    "thisset.update(tropical)\n",
    "\n",
    "print(thisset)\n",
    "\n",
    "#The object in the update() method does not have to be a set, it can be any iterable object (tuples, lists, dictionaries etc.).\n",
    "thisset = {\"apple\", \"banana\", \"cherry\"}\n",
    "mylist = [\"kiwi\", \"orange\"]\n",
    "\n",
    "thisset.update(mylist)\n",
    "\n",
    "print(thisset)\n",
    "\n",
    "\n",
    "\n",
    "\n",
    "\"\"\"Python has a set of built-in methods that you can use on sets.\n",
    "\n",
    "Method\tDescription\n",
    "add()\t               Adds an element to the set\n",
    "clear()\t              Removes all the elements from the set\n",
    "copy()\t               Returns a copy of the set\n",
    "difference()         \tReturns a set containing the difference between two or more sets\n",
    "difference_update()       \tRemoves the items in this set that are also included in another, specified set\n",
    "discard()\t           Remove the specified item\n",
    "intersection()\t            Returns a set, that is the intersection of two other sets\n",
    "intersection_update()      \tRemoves the items in this set that are not present in other, specified set(s)\n",
    "isdisjoint()\t        Returns whether two sets have a intersection or not\n",
    "issubset()\t        Returns whether another set contains this set or not\n",
    "issuperset()\t      Returns whether this set contains another set or not\n",
    "pop()\t       Removes an element from the set\n",
    "remove()       \tRemoves the specified element\n",
    "symmetric_difference()\t       Returns a set with the symmetric differences of two sets\n",
    "symmetric_difference_update()\t     inserts the symmetric differences from this set and another\n",
    "union()\t         Return a set containing the union of sets\n",
    "update()\t   Update the set with the union of this set and others\n",
    "    \"\"\"\n",
    "    \n",
    "    \n",
    "\n",
    "\n"
   ]
  },
  {
   "cell_type": "code",
   "execution_count": null,
   "metadata": {},
   "outputs": [],
   "source": []
  },
  {
   "cell_type": "code",
   "execution_count": null,
   "metadata": {},
   "outputs": [],
   "source": []
  }
 ],
 "metadata": {
  "kernelspec": {
   "display_name": "Python 3",
   "language": "python",
   "name": "python3"
  },
  "language_info": {
   "codemirror_mode": {
    "name": "ipython",
    "version": 3
   },
   "file_extension": ".py",
   "mimetype": "text/x-python",
   "name": "python",
   "nbconvert_exporter": "python",
   "pygments_lexer": "ipython3",
   "version": "3.11.4"
  }
 },
 "nbformat": 4,
 "nbformat_minor": 2
}
