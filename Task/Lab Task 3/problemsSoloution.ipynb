{
 "cells": [
  {
   "cell_type": "code",
   "execution_count": 10,
   "metadata": {},
   "outputs": [
    {
     "name": "stdout",
     "output_type": "stream",
     "text": [
      "hsaka\n",
      "hsaka"
     ]
    }
   ],
   "source": [
    "\"\"\"\n",
    "1.\tString Reverse: Write a Python function to reverse a given string and return the reversed string. \n",
    "\"\"\"\n",
    "givenString=input(\"Enter Your Name: \")\n",
    "finalString=givenString[::-1]\n",
    "print(finalString)\n",
    "\n",
    "\n",
    "\n",
    "#another solution\n",
    "for char in reversed(givenString):\n",
    "    print(char,end='')"
   ]
  },
  {
   "cell_type": "code",
   "execution_count": 19,
   "metadata": {},
   "outputs": [
    {
     "name": "stdout",
     "output_type": "stream",
     "text": [
      "['23323', '45', '56', '56', '23', '456', '234', '45']\n",
      "['23323', '45', '56', '56', '23', '456', '234', '45']\n"
     ]
    }
   ],
   "source": [
    "\"\"\"\n",
    "\n",
    "2.Type Conversion: Given a list of integers, write a Python program to convert each element of the list to a string.\n",
    "\n",
    "\"\"\"\n",
    "\n",
    "numbers=[23323,45,56,56,23,456,234,45]\n",
    "convertedString=list(map(str,numbers))\n",
    "print(convertedString)\n",
    "\n",
    "#alternative\n",
    "\n",
    "newString=[str(i) for i in numbers]\n",
    "print(newString)\n"
   ]
  },
  {
   "cell_type": "code",
   "execution_count": null,
   "metadata": {},
   "outputs": [],
   "source": []
  }
 ],
 "metadata": {
  "kernelspec": {
   "display_name": "Python 3",
   "language": "python",
   "name": "python3"
  },
  "language_info": {
   "codemirror_mode": {
    "name": "ipython",
    "version": 3
   },
   "file_extension": ".py",
   "mimetype": "text/x-python",
   "name": "python",
   "nbconvert_exporter": "python",
   "pygments_lexer": "ipython3",
   "version": "3.11.4"
  }
 },
 "nbformat": 4,
 "nbformat_minor": 2
}
